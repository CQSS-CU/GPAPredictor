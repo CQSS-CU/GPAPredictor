{
 "cells": [
  {
   "cell_type": "code",
   "execution_count": 6,
   "metadata": {},
   "outputs": [],
   "source": [
    "import pandas as pd\n",
    "import numpy as np"
   ]
  },
  {
   "cell_type": "code",
   "execution_count": 7,
   "metadata": {},
   "outputs": [],
   "source": [
    "# Column labels of the dataset (per: https://doi.org/10.7910/DVN/O35FW8)\n",
    "column_labels = ([\n",
    "  \"gender\", \n",
    "  \"race\", \n",
    "  \"physics\", \n",
    "  \"biology\", \n",
    "  \"history\", \n",
    "  \"second_language\", \n",
    "  \"geography\", \n",
    "  \"literature\", \n",
    "  \"portuguese\",\n",
    "  \"math\",\n",
    "  \"chemistry\",\n",
    "  \"gpa\"\n",
    "  ])\n",
    "\n",
    "data = pd.read_csv(\"data/ufrgs_data_with_race.csv\", header = 0, names = column_labels)"
   ]
  }
 ],
 "metadata": {
  "kernelspec": {
   "display_name": "Python 3",
   "language": "python",
   "name": "python3"
  },
  "language_info": {
   "codemirror_mode": {
    "name": "ipython",
    "version": 3
   },
   "file_extension": ".py",
   "mimetype": "text/x-python",
   "name": "python",
   "nbconvert_exporter": "python",
   "pygments_lexer": "ipython3",
   "version": "3.9.6"
  }
 },
 "nbformat": 4,
 "nbformat_minor": 2
}
