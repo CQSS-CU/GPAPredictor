{
 "cells": [
  {
   "cell_type": "code",
   "execution_count": 104,
   "metadata": {},
   "outputs": [],
   "source": [
    "import pandas as pd\n",
    "import numpy as np"
   ]
  },
  {
   "cell_type": "code",
   "execution_count": 105,
   "metadata": {},
   "outputs": [
    {
     "data": {
      "text/html": [
       "<div>\n",
       "<style scoped>\n",
       "    .dataframe tbody tr th:only-of-type {\n",
       "        vertical-align: middle;\n",
       "    }\n",
       "\n",
       "    .dataframe tbody tr th {\n",
       "        vertical-align: top;\n",
       "    }\n",
       "\n",
       "    .dataframe thead th {\n",
       "        text-align: right;\n",
       "    }\n",
       "</style>\n",
       "<table border=\"1\" class=\"dataframe\">\n",
       "  <thead>\n",
       "    <tr style=\"text-align: right;\">\n",
       "      <th></th>\n",
       "      <th>gender</th>\n",
       "      <th>race</th>\n",
       "      <th>physics</th>\n",
       "      <th>biology</th>\n",
       "      <th>history</th>\n",
       "      <th>foreign language</th>\n",
       "      <th>geography</th>\n",
       "      <th>literature</th>\n",
       "      <th>portuguese</th>\n",
       "      <th>math</th>\n",
       "      <th>chemistry</th>\n",
       "      <th>mean GPA</th>\n",
       "    </tr>\n",
       "  </thead>\n",
       "  <tbody>\n",
       "    <tr>\n",
       "      <th>0</th>\n",
       "      <td>1</td>\n",
       "      <td>White</td>\n",
       "      <td>538.00</td>\n",
       "      <td>490.58</td>\n",
       "      <td>406.59</td>\n",
       "      <td>529.05</td>\n",
       "      <td>532.28</td>\n",
       "      <td>447.23</td>\n",
       "      <td>527.58</td>\n",
       "      <td>379.14</td>\n",
       "      <td>488.64</td>\n",
       "      <td>2.98333</td>\n",
       "    </tr>\n",
       "    <tr>\n",
       "      <th>1</th>\n",
       "      <td>1</td>\n",
       "      <td>White</td>\n",
       "      <td>455.18</td>\n",
       "      <td>440.00</td>\n",
       "      <td>570.86</td>\n",
       "      <td>417.54</td>\n",
       "      <td>453.53</td>\n",
       "      <td>425.87</td>\n",
       "      <td>475.63</td>\n",
       "      <td>476.11</td>\n",
       "      <td>407.15</td>\n",
       "      <td>1.97333</td>\n",
       "    </tr>\n",
       "    <tr>\n",
       "      <th>2</th>\n",
       "      <td>0</td>\n",
       "      <td>White</td>\n",
       "      <td>756.91</td>\n",
       "      <td>679.62</td>\n",
       "      <td>531.28</td>\n",
       "      <td>583.63</td>\n",
       "      <td>534.42</td>\n",
       "      <td>521.40</td>\n",
       "      <td>592.41</td>\n",
       "      <td>783.76</td>\n",
       "      <td>588.26</td>\n",
       "      <td>2.53333</td>\n",
       "    </tr>\n",
       "    <tr>\n",
       "      <th>3</th>\n",
       "      <td>1</td>\n",
       "      <td>White</td>\n",
       "      <td>584.54</td>\n",
       "      <td>649.84</td>\n",
       "      <td>637.43</td>\n",
       "      <td>609.06</td>\n",
       "      <td>670.46</td>\n",
       "      <td>515.38</td>\n",
       "      <td>572.52</td>\n",
       "      <td>581.25</td>\n",
       "      <td>529.04</td>\n",
       "      <td>1.58667</td>\n",
       "    </tr>\n",
       "    <tr>\n",
       "      <th>4</th>\n",
       "      <td>1</td>\n",
       "      <td>White</td>\n",
       "      <td>325.99</td>\n",
       "      <td>466.74</td>\n",
       "      <td>597.06</td>\n",
       "      <td>554.43</td>\n",
       "      <td>535.77</td>\n",
       "      <td>717.03</td>\n",
       "      <td>477.60</td>\n",
       "      <td>503.82</td>\n",
       "      <td>422.92</td>\n",
       "      <td>1.66667</td>\n",
       "    </tr>\n",
       "  </tbody>\n",
       "</table>\n",
       "</div>"
      ],
      "text/plain": [
       "   gender   race  physics  biology  history  foreign language  geography  \\\n",
       "0       1  White   538.00   490.58   406.59            529.05     532.28   \n",
       "1       1  White   455.18   440.00   570.86            417.54     453.53   \n",
       "2       0  White   756.91   679.62   531.28            583.63     534.42   \n",
       "3       1  White   584.54   649.84   637.43            609.06     670.46   \n",
       "4       1  White   325.99   466.74   597.06            554.43     535.77   \n",
       "\n",
       "   literature  portuguese    math  chemistry  mean GPA  \n",
       "0      447.23      527.58  379.14     488.64   2.98333  \n",
       "1      425.87      475.63  476.11     407.15   1.97333  \n",
       "2      521.40      592.41  783.76     588.26   2.53333  \n",
       "3      515.38      572.52  581.25     529.04   1.58667  \n",
       "4      717.03      477.60  503.82     422.92   1.66667  "
      ]
     },
     "execution_count": 105,
     "metadata": {},
     "output_type": "execute_result"
    }
   ],
   "source": [
    "# Headers derrived from: https://doi.org/10.7910/DVN/O35FW8\n",
    "column_headers = ([\n",
    "  \"gender\", \n",
    "  \"race\", \n",
    "  \"physics\", \n",
    "  \"biology\", \n",
    "  \"history\", \n",
    "  \"foreign language\", \n",
    "  \"geography\", \n",
    "  \"literature\", \n",
    "  \"portuguese\",\n",
    "  \"math\",\n",
    "  \"chemistry\",\n",
    "  \"mean GPA\"\n",
    "  ])\n",
    "\n",
    "students = pd.read_csv(\"data/UFRGS_exam_gpa.csv\", header = 0, names = column_headers)\n",
    "students.head()"
   ]
  },
  {
   "cell_type": "code",
   "execution_count": 106,
   "metadata": {},
   "outputs": [],
   "source": [
    "from sklearn.model_selection import train_test_split\n",
    "train_set, test_set = train_test_split(students, test_size=0.2, random_state=2024)"
   ]
  },
  {
   "cell_type": "code",
   "execution_count": 107,
   "metadata": {},
   "outputs": [],
   "source": [
    "students = train_set.copy()"
   ]
  },
  {
   "cell_type": "code",
   "execution_count": 108,
   "metadata": {},
   "outputs": [
    {
     "data": {
      "text/plain": [
       "mean GPA            1.000000\n",
       "literature          0.328419\n",
       "portuguese          0.272709\n",
       "biology             0.238810\n",
       "history             0.224719\n",
       "foreign language    0.214333\n",
       "chemistry           0.201278\n",
       "geography           0.177406\n",
       "physics             0.172503\n",
       "math                0.142776\n",
       "gender             -0.213094\n",
       "Name: mean GPA, dtype: float64"
      ]
     },
     "execution_count": 108,
     "metadata": {},
     "output_type": "execute_result"
    }
   ],
   "source": [
    "corr_matrix = students.corr(numeric_only=True)\n",
    "corr_matrix['mean GPA'].sort_values(ascending=False)\n"
   ]
  },
  {
   "cell_type": "code",
   "execution_count": 109,
   "metadata": {},
   "outputs": [],
   "source": [
    "students = train_set.copy().drop(columns=['mean GPA'])\n",
    "students_labels = train_set['mean GPA'].copy()"
   ]
  },
  {
   "cell_type": "code",
   "execution_count": 110,
   "metadata": {},
   "outputs": [],
   "source": [
    "from sklearn.impute import SimpleImputer\n",
    "imputer = SimpleImputer(strategy=\"median\")"
   ]
  },
  {
   "cell_type": "code",
   "execution_count": 112,
   "metadata": {},
   "outputs": [],
   "source": [
    "students_num = students.select_dtypes(include=[np.number])"
   ]
  },
  {
   "cell_type": "code",
   "execution_count": 115,
   "metadata": {},
   "outputs": [],
   "source": [
    "imputer.fit(students_num)\n",
    "X = imputer.transform(students_num)\n"
   ]
  },
  {
   "cell_type": "code",
   "execution_count": 119,
   "metadata": {},
   "outputs": [],
   "source": [
    "students_tr = pd.DataFrame(X,columns=students_num.columns,index=students_num.index)"
   ]
  },
  {
   "cell_type": "code",
   "execution_count": 116,
   "metadata": {},
   "outputs": [
    {
     "data": {
      "text/html": [
       "<div>\n",
       "<style scoped>\n",
       "    .dataframe tbody tr th:only-of-type {\n",
       "        vertical-align: middle;\n",
       "    }\n",
       "\n",
       "    .dataframe tbody tr th {\n",
       "        vertical-align: top;\n",
       "    }\n",
       "\n",
       "    .dataframe thead th {\n",
       "        text-align: right;\n",
       "    }\n",
       "</style>\n",
       "<table border=\"1\" class=\"dataframe\">\n",
       "  <thead>\n",
       "    <tr style=\"text-align: right;\">\n",
       "      <th></th>\n",
       "      <th>gender</th>\n",
       "      <th>race</th>\n",
       "    </tr>\n",
       "  </thead>\n",
       "  <tbody>\n",
       "    <tr>\n",
       "      <th>29335</th>\n",
       "      <td>1</td>\n",
       "      <td>White</td>\n",
       "    </tr>\n",
       "    <tr>\n",
       "      <th>11787</th>\n",
       "      <td>0</td>\n",
       "      <td>White</td>\n",
       "    </tr>\n",
       "    <tr>\n",
       "      <th>3335</th>\n",
       "      <td>0</td>\n",
       "      <td>Black</td>\n",
       "    </tr>\n",
       "    <tr>\n",
       "      <th>10774</th>\n",
       "      <td>0</td>\n",
       "      <td>White</td>\n",
       "    </tr>\n",
       "    <tr>\n",
       "      <th>25812</th>\n",
       "      <td>1</td>\n",
       "      <td>White</td>\n",
       "    </tr>\n",
       "  </tbody>\n",
       "</table>\n",
       "</div>"
      ],
      "text/plain": [
       "       gender   race\n",
       "29335       1  White\n",
       "11787       0  White\n",
       "3335        0  Black\n",
       "10774       0  White\n",
       "25812       1  White"
      ]
     },
     "execution_count": 116,
     "metadata": {},
     "output_type": "execute_result"
    }
   ],
   "source": [
    "students_cat = students[['gender', 'race']]\n",
    "students_cat.head()"
   ]
  },
  {
   "cell_type": "code",
   "execution_count": 125,
   "metadata": {},
   "outputs": [],
   "source": [
    "from sklearn.preprocessing import OneHotEncoder\n",
    "\n",
    "cat_encoder = OneHotEncoder()\n",
    "students_cat_1hot = cat_encoder.fit_transform(students_cat.drop(columns=['gender']))"
   ]
  },
  {
   "cell_type": "code",
   "execution_count": 126,
   "metadata": {},
   "outputs": [
    {
     "data": {
      "text/plain": [
       "[array(['Asian', 'Black', 'Indigenous', 'Parda', 'White'], dtype=object)]"
      ]
     },
     "execution_count": 126,
     "metadata": {},
     "output_type": "execute_result"
    }
   ],
   "source": [
    "cat_encoder.categories_"
   ]
  },
  {
   "cell_type": "code",
   "execution_count": 127,
   "metadata": {},
   "outputs": [],
   "source": [
    "from sklearn.preprocessing import StandardScaler\n",
    "\n",
    "std_scaler = StandardScaler()\n",
    "students_num_std_scaled = std_scaler.fit_transform(students_num)"
   ]
  },
  {
   "cell_type": "code",
   "execution_count": 135,
   "metadata": {},
   "outputs": [],
   "source": [
    "#Data Transformation Pipeline\n",
    "\n",
    "from sklearn.pipeline import Pipeline\n",
    "\n",
    "num_attribs = [\"physics\", \"biology\", \"history\", \"foreign language\", \"geography\", \"literature\", \"portuguese\",\"math\",\"chemistry\"]\n",
    "\n",
    "num_pipeline = Pipeline([\n",
    "  (\"impute\", SimpleImputer(strategy=\"median\")),\n",
    "  (\"standardize\", StandardScaler())\n",
    "])\n",
    "\n",
    "from sklearn.pipeline import make_pipeline\n",
    "\n",
    "cat_attribs = [\"gender\", \"race\"]\n",
    "\n",
    "cat_pipeline = make_pipeline(\n",
    "  SimpleImputer(strategy=\"most_frequent\"),\n",
    "  OneHotEncoder(handle_unknown=\"ignore\")\n",
    ")\n",
    "\n",
    "from sklearn.compose import ColumnTransformer\n",
    "\n",
    "preprocessing = ColumnTransformer([\n",
    "  (\"num\", num_pipeline, num_attribs),\n",
    "  (\"cat\", cat_pipeline, cat_attribs)\n",
    "])"
   ]
  },
  {
   "cell_type": "code",
   "execution_count": 136,
   "metadata": {},
   "outputs": [],
   "source": [
    "students_prepared = preprocessing.fit_transform(students)"
   ]
  }
 ],
 "metadata": {
  "kernelspec": {
   "display_name": "Python 3",
   "language": "python",
   "name": "python3"
  },
  "language_info": {
   "codemirror_mode": {
    "name": "ipython",
    "version": 3
   },
   "file_extension": ".py",
   "mimetype": "text/x-python",
   "name": "python",
   "nbconvert_exporter": "python",
   "pygments_lexer": "ipython3",
   "version": "3.9.6"
  }
 },
 "nbformat": 4,
 "nbformat_minor": 2
}
